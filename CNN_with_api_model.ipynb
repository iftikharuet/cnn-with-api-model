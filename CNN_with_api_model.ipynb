{
  "nbformat": 4,
  "nbformat_minor": 0,
  "metadata": {
    "colab": {
      "name": "CNN with api model.ipynb",
      "provenance": []
    },
    "kernelspec": {
      "name": "python3",
      "display_name": "Python 3"
    },
    "accelerator": "GPU"
  },
  "cells": [
    {
      "cell_type": "code",
      "metadata": {
        "id": "va0a_MlxeRf2"
      },
      "source": [
        "import numpy as np\r\n",
        "import tensorflow as tf\r\n",
        "from tensorflow import keras\r\n",
        "from tensorflow.keras import layers"
      ],
      "execution_count": 1,
      "outputs": []
    },
    {
      "cell_type": "code",
      "metadata": {
        "id": "ASJMZtVgeTrz"
      },
      "source": [
        "inputs = keras.Input(shape=(784,))"
      ],
      "execution_count": 2,
      "outputs": []
    },
    {
      "cell_type": "code",
      "metadata": {
        "id": "BUN0jMfOecza"
      },
      "source": [
        "dense = layers.Dense(64, activation=\"sigmoid\")\r\n",
        "x = dense(inputs)\r\n",
        "x = layers.Dense(64, activation=\"sigmoid\")(x)\r\n",
        "outputs = layers.Dense(10)(x)"
      ],
      "execution_count": 3,
      "outputs": []
    },
    {
      "cell_type": "code",
      "metadata": {
        "id": "ZE8sg0xuefMH"
      },
      "source": [
        "model = keras.Model(inputs=inputs, outputs=outputs, name=\"mnist_model\")"
      ],
      "execution_count": 4,
      "outputs": []
    },
    {
      "cell_type": "code",
      "metadata": {
        "colab": {
          "base_uri": "https://localhost:8080/"
        },
        "id": "gHpCR_iOehjb",
        "outputId": "23306f6b-b807-41fa-b4cb-0cec92fb9b30"
      },
      "source": [
        "(x_train, y_train), (x_test, y_test) = keras.datasets.mnist.load_data()\r\n",
        "\r\n",
        "x_train = x_train.reshape(60000, 784).astype(\"float32\") / 255\r\n",
        "x_test = x_test.reshape(10000, 784).astype(\"float32\") / 255\r\n",
        "\r\n",
        "model.compile(\r\n",
        "    loss=keras.losses.SparseCategoricalCrossentropy(from_logits=True),\r\n",
        "    optimizer=keras.optimizers.RMSprop(),\r\n",
        "    metrics=[\"accuracy\"],\r\n",
        ")\r\n",
        "\r\n",
        "history = model.fit(x_train, y_train, batch_size=64, epochs=2, validation_split=0.2)\r\n",
        "\r\n",
        "test_scores = model.evaluate(x_test, y_test, verbose=2)\r\n",
        "print(\"Test loss:\", test_scores[0])\r\n",
        "print(\"Test accuracy:\", test_scores[1])"
      ],
      "execution_count": 5,
      "outputs": [
        {
          "output_type": "stream",
          "text": [
            "Downloading data from https://storage.googleapis.com/tensorflow/tf-keras-datasets/mnist.npz\n",
            "11493376/11490434 [==============================] - 0s 0us/step\n",
            "Epoch 1/2\n",
            "750/750 [==============================] - 4s 3ms/step - loss: 1.2579 - accuracy: 0.7003 - val_loss: 0.3016 - val_accuracy: 0.9128\n",
            "Epoch 2/2\n",
            "750/750 [==============================] - 2s 3ms/step - loss: 0.2897 - accuracy: 0.9176 - val_loss: 0.2241 - val_accuracy: 0.9319\n",
            "313/313 - 0s - loss: 0.2290 - accuracy: 0.9316\n",
            "Test loss: 0.2290368229150772\n",
            "Test accuracy: 0.9315999746322632\n"
          ],
          "name": "stdout"
        }
      ]
    },
    {
      "cell_type": "code",
      "metadata": {
        "id": "EY14LKFvelS1"
      },
      "source": [
        ""
      ],
      "execution_count": null,
      "outputs": []
    }
  ]
}